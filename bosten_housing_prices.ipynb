{
 "cells": [
  {
   "cell_type": "markdown",
   "metadata": {},
   "source": [
    "# Bosten Housing Prices"
   ]
  },
  {
   "cell_type": "markdown",
   "metadata": {},
   "source": [
    "## General\n",
    "Housing Values in Suburbs of Boston. The **medv** variable is the target variable. <br>\n",
    "\n",
    "<img  style=\"width:500px;height:300px;\"src=\"house_pig.jpg\" alt=\"Boston house\">\n",
    "<p>Source: http://www.houseandhammer.com/wp-content/uploads/2016/11/11cudworthmedford-750x429.jpg </p>\n",
    "\n",
    "## Data description\n",
    "The Boston data frame has 506 rows and 14 columns.This data frame contains the following columns:<br>\n",
    "<ul>\n",
    " <li>\n",
    "     **crim**: per capita crime rate by town.\n",
    " </li>\n",
    " <li>\n",
    "     **zn**: proportion of residential land zoned for lots over 25,000 sq.ft.\n",
    " </li>\n",
    " <li>\n",
    "     **indus**: proportion of non-retail business acres per town.\n",
    " </li>\n",
    " <li>\n",
    "     **chas**: Charles River dummy variable (= 1 if tract bounds river; 0 otherwise).\n",
    " </li>\n",
    " <li>\n",
    "     **nox**: nitrogen oxides concentration (parts per 10 million).\n",
    " </li>\n",
    " <li>\n",
    "     **rm**:average number of rooms per dwelling.\n",
    " </li>\n",
    " <li>\n",
    "     **age**: proportion of owner-occupied units built prior to 1940.\n",
    " </li>\n",
    " <li>\n",
    "     **dis **: weighted mean of distances to five Boston employment centres.\n",
    " </li>\n",
    " <li> \n",
    "     **rad**: index of accessibility to radial highways.\n",
    " </li>\n",
    " <li>\n",
    "     **tax**: full-value property-tax rate per  \\$10,000.\n",
    " </li>\n",
    " <li>\n",
    " **ptratio **: pupil-teacher ratio by town.\n",
    " </li>\n",
    " <li>\n",
    " **black **: 1000(Bk - 0.63)^2 where Bk is the proportion of blacks by town.\n",
    " </li>\n",
    " <li>\n",
    " **lstat **: lower status of the population (percent).\n",
    " </li>\n",
    " <li>\n",
    " **medv **: median value of owner-occupied homes in \\$1000s.\n",
    "</ul>\n",
    "\n",
    " **Source **\n",
    "Harrison, D. and Rubinfeld, D.L. (1978) Hedonic prices and the demand for clean air. J. Environ. Economics and Management 5, 81–102.\n",
    "Belsley D.A., Kuh, E. and Welsch, R.E. (1980) Regression Diagnostics. Identifying Influential Data and Sources of Collinearity. New York: Wiley.\n",
    "\n",
    "\n"
   ]
  },
  {
   "cell_type": "code",
   "execution_count": 4,
   "metadata": {
    "scrolled": false
   },
   "outputs": [
    {
     "name": "stdout",
     "output_type": "stream",
     "text": [
      "['crim' 'zn' 'indus' 'chas' 'nox' 'rm' 'age' 'dis' 'rad' 'tax' 'ptratio'\n",
      " 'b' 'lstat']\n"
     ]
    },
    {
     "data": {
      "text/html": [
       "<div>\n",
       "<style scoped>\n",
       "    .dataframe tbody tr th:only-of-type {\n",
       "        vertical-align: middle;\n",
       "    }\n",
       "\n",
       "    .dataframe tbody tr th {\n",
       "        vertical-align: top;\n",
       "    }\n",
       "\n",
       "    .dataframe thead th {\n",
       "        text-align: right;\n",
       "    }\n",
       "</style>\n",
       "<table border=\"1\" class=\"dataframe\">\n",
       "  <thead>\n",
       "    <tr style=\"text-align: right;\">\n",
       "      <th></th>\n",
       "      <th>crim</th>\n",
       "      <th>zn</th>\n",
       "      <th>indus</th>\n",
       "      <th>chas</th>\n",
       "      <th>nox</th>\n",
       "      <th>rm</th>\n",
       "      <th>age</th>\n",
       "      <th>dis</th>\n",
       "      <th>rad</th>\n",
       "      <th>tax</th>\n",
       "      <th>ptratio</th>\n",
       "      <th>b</th>\n",
       "      <th>lstat</th>\n",
       "      <th>medv</th>\n",
       "    </tr>\n",
       "  </thead>\n",
       "  <tbody>\n",
       "    <tr>\n",
       "      <th>count</th>\n",
       "      <td>506.000000</td>\n",
       "      <td>506.000000</td>\n",
       "      <td>506.000000</td>\n",
       "      <td>506.000000</td>\n",
       "      <td>506.000000</td>\n",
       "      <td>506.000000</td>\n",
       "      <td>506.000000</td>\n",
       "      <td>506.000000</td>\n",
       "      <td>506.000000</td>\n",
       "      <td>506.000000</td>\n",
       "      <td>506.000000</td>\n",
       "      <td>506.000000</td>\n",
       "      <td>506.000000</td>\n",
       "      <td>506.000000</td>\n",
       "    </tr>\n",
       "    <tr>\n",
       "      <th>mean</th>\n",
       "      <td>3.593761</td>\n",
       "      <td>11.363636</td>\n",
       "      <td>11.136779</td>\n",
       "      <td>0.069170</td>\n",
       "      <td>0.554695</td>\n",
       "      <td>6.284634</td>\n",
       "      <td>68.574901</td>\n",
       "      <td>3.795043</td>\n",
       "      <td>9.549407</td>\n",
       "      <td>408.237154</td>\n",
       "      <td>18.455534</td>\n",
       "      <td>356.674032</td>\n",
       "      <td>12.653063</td>\n",
       "      <td>22.532806</td>\n",
       "    </tr>\n",
       "    <tr>\n",
       "      <th>std</th>\n",
       "      <td>8.596783</td>\n",
       "      <td>23.322453</td>\n",
       "      <td>6.860353</td>\n",
       "      <td>0.253994</td>\n",
       "      <td>0.115878</td>\n",
       "      <td>0.702617</td>\n",
       "      <td>28.148861</td>\n",
       "      <td>2.105710</td>\n",
       "      <td>8.707259</td>\n",
       "      <td>168.537116</td>\n",
       "      <td>2.164946</td>\n",
       "      <td>91.294864</td>\n",
       "      <td>7.141062</td>\n",
       "      <td>9.197104</td>\n",
       "    </tr>\n",
       "    <tr>\n",
       "      <th>min</th>\n",
       "      <td>0.006320</td>\n",
       "      <td>0.000000</td>\n",
       "      <td>0.460000</td>\n",
       "      <td>0.000000</td>\n",
       "      <td>0.385000</td>\n",
       "      <td>3.561000</td>\n",
       "      <td>2.900000</td>\n",
       "      <td>1.129600</td>\n",
       "      <td>1.000000</td>\n",
       "      <td>187.000000</td>\n",
       "      <td>12.600000</td>\n",
       "      <td>0.320000</td>\n",
       "      <td>1.730000</td>\n",
       "      <td>5.000000</td>\n",
       "    </tr>\n",
       "    <tr>\n",
       "      <th>25%</th>\n",
       "      <td>0.082045</td>\n",
       "      <td>0.000000</td>\n",
       "      <td>5.190000</td>\n",
       "      <td>0.000000</td>\n",
       "      <td>0.449000</td>\n",
       "      <td>5.885500</td>\n",
       "      <td>45.025000</td>\n",
       "      <td>2.100175</td>\n",
       "      <td>4.000000</td>\n",
       "      <td>279.000000</td>\n",
       "      <td>17.400000</td>\n",
       "      <td>375.377500</td>\n",
       "      <td>6.950000</td>\n",
       "      <td>17.025000</td>\n",
       "    </tr>\n",
       "    <tr>\n",
       "      <th>50%</th>\n",
       "      <td>0.256510</td>\n",
       "      <td>0.000000</td>\n",
       "      <td>9.690000</td>\n",
       "      <td>0.000000</td>\n",
       "      <td>0.538000</td>\n",
       "      <td>6.208500</td>\n",
       "      <td>77.500000</td>\n",
       "      <td>3.207450</td>\n",
       "      <td>5.000000</td>\n",
       "      <td>330.000000</td>\n",
       "      <td>19.050000</td>\n",
       "      <td>391.440000</td>\n",
       "      <td>11.360000</td>\n",
       "      <td>21.200000</td>\n",
       "    </tr>\n",
       "    <tr>\n",
       "      <th>75%</th>\n",
       "      <td>3.647423</td>\n",
       "      <td>12.500000</td>\n",
       "      <td>18.100000</td>\n",
       "      <td>0.000000</td>\n",
       "      <td>0.624000</td>\n",
       "      <td>6.623500</td>\n",
       "      <td>94.075000</td>\n",
       "      <td>5.188425</td>\n",
       "      <td>24.000000</td>\n",
       "      <td>666.000000</td>\n",
       "      <td>20.200000</td>\n",
       "      <td>396.225000</td>\n",
       "      <td>16.955000</td>\n",
       "      <td>25.000000</td>\n",
       "    </tr>\n",
       "    <tr>\n",
       "      <th>max</th>\n",
       "      <td>88.976200</td>\n",
       "      <td>100.000000</td>\n",
       "      <td>27.740000</td>\n",
       "      <td>1.000000</td>\n",
       "      <td>0.871000</td>\n",
       "      <td>8.780000</td>\n",
       "      <td>100.000000</td>\n",
       "      <td>12.126500</td>\n",
       "      <td>24.000000</td>\n",
       "      <td>711.000000</td>\n",
       "      <td>22.000000</td>\n",
       "      <td>396.900000</td>\n",
       "      <td>37.970000</td>\n",
       "      <td>50.000000</td>\n",
       "    </tr>\n",
       "  </tbody>\n",
       "</table>\n",
       "</div>"
      ],
      "text/plain": [
       "             crim          zn       indus        chas         nox          rm  \\\n",
       "count  506.000000  506.000000  506.000000  506.000000  506.000000  506.000000   \n",
       "mean     3.593761   11.363636   11.136779    0.069170    0.554695    6.284634   \n",
       "std      8.596783   23.322453    6.860353    0.253994    0.115878    0.702617   \n",
       "min      0.006320    0.000000    0.460000    0.000000    0.385000    3.561000   \n",
       "25%      0.082045    0.000000    5.190000    0.000000    0.449000    5.885500   \n",
       "50%      0.256510    0.000000    9.690000    0.000000    0.538000    6.208500   \n",
       "75%      3.647423   12.500000   18.100000    0.000000    0.624000    6.623500   \n",
       "max     88.976200  100.000000   27.740000    1.000000    0.871000    8.780000   \n",
       "\n",
       "              age         dis         rad         tax     ptratio           b  \\\n",
       "count  506.000000  506.000000  506.000000  506.000000  506.000000  506.000000   \n",
       "mean    68.574901    3.795043    9.549407  408.237154   18.455534  356.674032   \n",
       "std     28.148861    2.105710    8.707259  168.537116    2.164946   91.294864   \n",
       "min      2.900000    1.129600    1.000000  187.000000   12.600000    0.320000   \n",
       "25%     45.025000    2.100175    4.000000  279.000000   17.400000  375.377500   \n",
       "50%     77.500000    3.207450    5.000000  330.000000   19.050000  391.440000   \n",
       "75%     94.075000    5.188425   24.000000  666.000000   20.200000  396.225000   \n",
       "max    100.000000   12.126500   24.000000  711.000000   22.000000  396.900000   \n",
       "\n",
       "            lstat        medv  \n",
       "count  506.000000  506.000000  \n",
       "mean    12.653063   22.532806  \n",
       "std      7.141062    9.197104  \n",
       "min      1.730000    5.000000  \n",
       "25%      6.950000   17.025000  \n",
       "50%     11.360000   21.200000  \n",
       "75%     16.955000   25.000000  \n",
       "max     37.970000   50.000000  "
      ]
     },
     "metadata": {},
     "output_type": "display_data"
    }
   ],
   "source": [
    "#1.1Step: Import libraries which are necessary for this project\n",
    "\n",
    "import pandas as pd\n",
    "import numpy as np\n",
    "import seaborn as sns\n",
    "from IPython.core.display import display, HTML\n",
    "\n",
    "\n",
    "#1.3.Step: For a nice display in the notebooks\n",
    "%matplotlib inline\n",
    "import matplotlib.pyplot as plt\n",
    "%matplotlib inline\n",
    "\n",
    "#1.4.Step: Preprocessing\n",
    "from sklearn.datasets import load_boston\n",
    "boston = load_boston()\n",
    "boston.feature_names \n",
    "lower_case = lambda x:x.lower()\n",
    "func_lower = np.vectorize(lower_case)\n",
    "feature_names = func_lower(boston.feature_names)\n",
    "print(feature_names)\n",
    "boston = load_boston()\n",
    "df_boston = pd.DataFrame(boston.data, columns=feature_names)\n",
    "df_boston['medv'] = pd.Series(boston.target)\n",
    "df_boston.head()\n",
    "\n",
    "display(df_boston.describe())\n"
   ]
  },
  {
   "cell_type": "markdown",
   "metadata": {},
   "source": [
    "## Data Exploration"
   ]
  },
  {
   "cell_type": "code",
   "execution_count": 42,
   "metadata": {
    "scrolled": false
   },
   "outputs": [
    {
     "data": {
      "image/png": "[encoded data removed]",
      "text/plain": [
       "<Figure size 1440x720 with 2 Axes>"
      ]
     },
     "metadata": {},
     "output_type": "display_data"
    },
    {
     "data": {
      "text/html": [
       "\n",
       "<p>For the first try the Pearson correlation will be used to measure the corrleation. The Pearson coefficient has values between -1 to 1 </p>\n",
       "<ul>\n",
       "    <li>0: A value close to zeroe imples a weak correlation. A value of exact 0 impliess no correlation.</li>\n",
       "    <li>-1: a value close to -1 implies a strong negativ correlation</li>\n",
       "    <li>+1: a value close to +1 implies a strong postiv correlation</li>\n",
       "</ul>\n",
       "\n"
      ],
      "text/plain": [
       "<IPython.core.display.HTML object>"
      ]
     },
     "metadata": {},
     "output_type": "display_data"
    },
    {
     "data": {
      "text/plain": [
       "lstat     -0.737663\n",
       "ptratio   -0.507787\n",
       "indus     -0.483725\n",
       "tax       -0.468536\n",
       "nox       -0.427321\n",
       "crim      -0.385832\n",
       "rad       -0.381626\n",
       "age       -0.376955\n",
       "chas       0.175260\n",
       "dis        0.249929\n",
       "b          0.333461\n",
       "zn         0.360445\n",
       "rm         0.695360\n",
       "medv       1.000000\n",
       "Name: medv, dtype: float64"
      ]
     },
     "metadata": {},
     "output_type": "display_data"
    },
    {
     "data": {
      "text/html": [
       "<h3> Relevant features </h3>"
      ],
      "text/plain": [
       "<IPython.core.display.HTML object>"
      ]
     },
     "metadata": {},
     "output_type": "display_data"
    },
    {
     "data": {
      "text/plain": [
       "rm         0.695360\n",
       "ptratio   -0.507787\n",
       "lstat     -0.737663\n",
       "medv       1.000000\n",
       "Name: medv, dtype: float64"
      ]
     },
     "metadata": {},
     "output_type": "display_data"
    },
    {
     "data": {
      "text/html": [
       "\n",
       "        <h3> Finding </h3>\n",
       "        You can see that feature's: <br>\n",
       "        <ul>\n",
       "        <li>lstat  [lower status of the population (percent)] \n",
       "        </li><li>\n",
       "        rm (average number of rooms)\n",
       "        </li><li>\n",
       "        ptratio (pupil-teacher ratio by town. )\n",
       "        </li>\n",
       "        </ul>\n",
       "        correlates quite strongly to the medv. However  inorder to be ableu the use Pearson Correlation the <br>\n",
       "        the following assumptions need to be checked\n",
       "        <ol>\n",
       "            <li>continuous variables</li>\n",
       "            <li>Cases that have values on both variables</li>\n",
       "            <li>Linear relationship between the variables</li>\n",
       "            <li>Independent cases (i.e., independence of observations) </li>\n",
       "            <li>Bivariate normality </li>\n",
       "            <li>Random sample of data from the population</li>\n",
       "            <li>No outliers</li>\n",
       "        </ol>\n",
       "        Source: https://libguides.library.kent.edu/SPSS/PearsonCorr\n",
       "        \n",
       "        "
      ],
      "text/plain": [
       "<IPython.core.display.HTML object>"
      ]
     },
     "metadata": {},
     "output_type": "display_data"
    }
   ],
   "source": [
    "plt.figure(figsize=(20,10))\n",
    "corr = df_boston.corr()\n",
    "ax = sns.heatmap(\n",
    "    corr, \n",
    "    vmin=-1, vmax=1, center=0,\n",
    "    cmap=sns.diverging_palette(20, 220, n=100),\n",
    "    annot=True, \n",
    "    fmt='.2g',\n",
    "    square=True,\n",
    "\n",
    ")\n",
    "ax.set_xticklabels(\n",
    "    ax.get_xticklabels(),\n",
    "    rotation=45,\n",
    "    horizontalalignment='right'\n",
    ");\n",
    "plt.show()\n",
    "\n",
    "correlations = df_boston.corr()\n",
    "correlations = correlations['medv']\n",
    "display(HTML('''\n",
    "<p>For the first try the Pearson correlation will be used to measure the corrleation. The Pearson coefficient has values between -1 to 1 </p>\n",
    "<ul>\n",
    "    <li>0: A value close to zeroe imples a weak correlation. A value of exact 0 impliess no correlation.</li>\n",
    "    <li>-1: a value close to -1 implies a strong negativ correlation</li>\n",
    "    <li>+1: a value close to +1 implies a strong postiv correlation</li>\n",
    "</ul>\n",
    "\n",
    "'''))\n",
    "\n",
    "display(\n",
    "    correlations.sort_values()\n",
    ")\n",
    "\n",
    "#Step: Selecting only the relevant features\n",
    "\n",
    "relevant_feat = correlations[(correlations>0.5) | (correlations<-0.5)]\n",
    "\n",
    "display(HTML(\"\"\"<h3> Relevant features </h3>\"\"\"))\n",
    "display(relevant_feat)\n",
    "\n",
    "display(\n",
    "    HTML(\"\"\"\n",
    "        <h3> Finding </h3>\n",
    "        You can see that feature's: <br>\n",
    "        <ul>\n",
    "        <li>lstat  [lower status of the population (percent)] \n",
    "        </li><li>\n",
    "        rm (average number of rooms)\n",
    "        </li><li>\n",
    "        ptratio (pupil-teacher ratio by town. )\n",
    "        </li>\n",
    "        </ul>\n",
    "        correlates quite strongly to the medv. However  inorder to be ableu the use Pearson Correlation the <br>\n",
    "        the following assumptions need to be checked\n",
    "        <ol>\n",
    "            <li>continuous variables</li>\n",
    "            <li>Cases that have values on both variables</li>\n",
    "            <li>Linear relationship between the variables</li>\n",
    "            <li>Independent cases (i.e., independence of observations) </li>\n",
    "            <li>Bivariate normality </li>\n",
    "            <li>Random sample of data from the population</li>\n",
    "            <li>No outliers</li>\n",
    "        </ol>\n",
    "        Source: https://libguides.library.kent.edu/SPSS/PearsonCorr\n",
    "        \n",
    "        \"\"\"\n",
    "        )\n",
    ")\n",
    "\n",
    "\n",
    "\n",
    "\n"
   ]
  },
  {
   "cell_type": "code",
   "execution_count": 48,
   "metadata": {},
   "outputs": [
    {
     "data": {
      "text/html": [
       "\n",
       "        <h3> Check  linear assumptions </h3>\n",
       "        <ol>\n",
       "            <li>continuous variables <br> <b>Fulfilled </b>: </li>\n",
       "           \n",
       "            <li>Cases that have values on both variables <br> <b>Fulfilled </b></li>\n",
       "            <li>Linear relationship between the variable s<br> <b>Fulfilled </b></li>\n",
       "            <li>Independent cases (i.e., independence of observations)<br> <b>need to be investigated further </b></li>\n",
       "            <li>Bivariate normality <br> <b>need to be investigated further </b></li> </li>\n",
       "            <li>Random sample of data from the population <br> <b>Fulfilled </b></li>\n",
       "            <li>No outliers <br> <b>need to be investigated further </b> </li>\n",
       "        </ol>\n",
       "        Source: https://libguides.library.kent.edu/SPSS/PearsonCorr\n",
       "        \n",
       "        "
      ],
      "text/plain": [
       "<IPython.core.display.HTML object>"
      ]
     },
     "metadata": {},
     "output_type": "display_data"
    }
   ],
   "source": [
    "#todo: Write the reasons\n",
    "\n",
    "display(\n",
    "    HTML(\"\"\"\n",
    "        <h3> Check  linear assumptions </h3>\n",
    "        <ol>\n",
    "            <li>continuous variables <br> <b>Fulfilled </b>: </li>\n",
    "           \n",
    "            <li>Cases that have values on both variables <br> <b>Fulfilled </b></li>\n",
    "            <li>Linear relationship between the variable s<br> <b>Fulfilled </b></li>\n",
    "            <li>Independent cases (i.e., independence of observations)<br> <b>need to be investigated further </b></li>\n",
    "            <li>Bivariate normality <br> <b>need to be investigated further </b></li> </li>\n",
    "            <li>Random sample of data from the population <br> <b>Fulfilled </b></li>\n",
    "            <li>No outliers <br> <b>need to be investigated further </b> </li>\n",
    "        </ol>\n",
    "        Source: https://libguides.library.kent.edu/SPSS/PearsonCorr\n",
    "        \n",
    "        \"\"\"\n",
    "        )\n",
    ")"
   ]
  },
  {
   "cell_type": "code",
   "execution_count": 40,
   "metadata": {},
   "outputs": [
    {
     "data": {
      "text/html": [
       "\n",
       "<h5>Let explore the correlation between the independent variables </h5>\n"
      ],
      "text/plain": [
       "<IPython.core.display.HTML object>"
      ]
     },
     "metadata": {},
     "output_type": "display_data"
    },
    {
     "data": {
      "image/png": "[encoded data removed]",
      "text/plain": [
       "<Figure size 360x360 with 2 Axes>"
      ]
     },
     "metadata": {},
     "output_type": "display_data"
    },
    {
     "data": {
      "text/html": [
       "\n",
       "<h5>Findings</h5>\n",
       "<P>As we can see the RM and LSTAT are strongly correlated with each other, <br>\n",
       "therefore I will only keep LSTAT because its correlation coefficient with medv is higher. I will also keep PTRATIO <br>\n",
       "because the PC value is below 0.5</p>\n"
      ],
      "text/plain": [
       "<IPython.core.display.HTML object>"
      ]
     },
     "metadata": {},
     "output_type": "display_data"
    }
   ],
   "source": [
    "display(HTML(\"\"\"\n",
    "<h5>Let explore the correlation between the independent variables </h5>\n",
    "\"\"\"))\n",
    "plt.figure(figsize=(5,5))\n",
    "corr = df_boston[[\"lstat\",\"rm\",\"ptratio\"]].corr()\n",
    "ax = sns.heatmap(\n",
    "    corr, \n",
    "    vmin=-1, vmax=1, center=0,\n",
    "    cmap=plt.cm.Reds,\n",
    "    annot=True, \n",
    "    fmt='.2g',\n",
    "    square=True,\n",
    "\n",
    ")\n",
    "ax.set_xticklabels(\n",
    "    ax.get_xticklabels(),\n",
    "    rotation=45,\n",
    "    horizontalalignment='right'\n",
    ");\n",
    "plt.show()\n",
    "\n",
    "\n",
    "display(HTML(\"\"\"\n",
    "<h5>Findings</h5>\n",
    "<P>As we can see the RM and LSTAT are strongly correlated with each other, <br>\n",
    "therefore I will only keep LSTAT because its correlation coefficient with medv is higher. I will also keep PTRATIO <br>\n",
    "because the PC value is below 0.5</p>\n",
    "\"\"\"))"
   ]
  },
  {
   "cell_type": "code",
   "execution_count": 60,
   "metadata": {},
   "outputs": [
    {
     "data": {
      "text/html": [
       "\n",
       "<h3>Multilinear regression</h3>\n",
       "<p>Prior I identify the most relevant feature to determine the target feature (medv). In this section I will build a \n",
       "multilinear regression, in order to find out how good the identify variable explaine the target var.</p>\n"
      ],
      "text/plain": [
       "<IPython.core.display.HTML object>"
      ]
     },
     "metadata": {},
     "output_type": "display_data"
    },
    {
     "data": {
      "text/html": [
       "\n",
       "<h3>Multilinear regression</h3>\n",
       "\n",
       "\n",
       "<p>Find a a multilinear model based on: </p>\n",
       "<ol>\n",
       "    <li>Just use all features \n",
       "    \n",
       "    </li>\n",
       "    <li>Backwards Elimination\n",
       "        <ol>\n",
       "            <li>Fit model with all possible features</li>\n",
       "            <li>Order the features according the P-Value</li>\n",
       "            <li>Remove the feature with the highest P-Value, if the p-value is higher than 5%. <br> If\n",
       "            no P-Value is higher than 5% the model is finished</li>\n",
       "            <li>Refit the model, and go two steps back</li>\n",
       "        </ol>\n",
       "    </li>\n",
       "    <li>Forward Selection\n",
       "        <ol>\n",
       "            <li>#Uncomplete</li>\n",
       "        </ol>\n",
       "    </li>   \n",
       "    <li>Bidirectional Selection\n",
       "        <ol>\n",
       "            <li>#Uncomplete</li>\n",
       "        </ol>\n",
       "    </li>  \n",
       "    <li>Sorce Comparision\n",
       "        <ol>\n",
       "            <li>#Uncomplete</li>\n",
       "        </ol>\n",
       "    </li>  \n",
       "</ol>\n"
      ],
      "text/plain": [
       "<IPython.core.display.HTML object>"
      ]
     },
     "metadata": {},
     "output_type": "display_data"
    }
   ],
   "source": [
    "display(HTML(\n",
    "\"\"\"\n",
    "<h3>Multilinear regression</h3>\n",
    "<p>Prior I identify the most relevant feature to determine the target feature (medv). In this section I will build a \n",
    "multilinear regression, in order to find out how good the identify variable explaine the target var.</p>\n",
    "\"\"\"\n",
    "))\n",
    "\n",
    "#todo: Complete this section\n",
    "\n",
    "display(HTML(\n",
    "\"\"\"\n",
    "<h3>Multilinear regression</h3>\n",
    "\n",
    "\n",
    "<p>Find a a multilinear model based on: </p>\n",
    "<ol>\n",
    "    <li>Just use all features \n",
    "    \n",
    "    </li>\n",
    "    <li>Backwards Elimination\n",
    "        <ol>\n",
    "            <li>Fit model with all possible features</li>\n",
    "            <li>Order the features according the P-Value</li>\n",
    "            <li>Remove the feature with the highest P-Value, if the p-value is higher than 5%. <br> If\n",
    "            no P-Value is higher than 5% the model is finished</li>\n",
    "            <li>Refit the model, and go two steps back</li>\n",
    "        </ol>\n",
    "    </li>\n",
    "    <li>Forward Selection\n",
    "        <ol>\n",
    "            <li>#Uncomplete</li>\n",
    "        </ol>\n",
    "    </li>   \n",
    "    <li>Bidirectional Selection\n",
    "        <ol>\n",
    "            <li>#Uncomplete</li>\n",
    "        </ol>\n",
    "    </li>  \n",
    "    <li>Sorce Comparision\n",
    "        <ol>\n",
    "            <li>#Uncomplete</li>\n",
    "        </ol>\n",
    "    </li>  \n",
    "</ol>\n",
    "\"\"\"\n",
    "))\n"
   ]
  },
  {
   "cell_type": "code",
   "execution_count": 34,
   "metadata": {
    "scrolled": true
   },
   "outputs": [
    {
     "data": {
      "text/html": [
       "\n",
       "<h5>Let’s use pandas to visualise this correlation further</h5>\n"
      ],
      "text/plain": [
       "<IPython.core.display.HTML object>"
      ]
     },
     "metadata": {},
     "output_type": "display_data"
    },
    {
     "name": "stderr",
     "output_type": "stream",
     "text": [
      "C:\\anaconda\\envs\\python35\\lib\\site-packages\\matplotlib\\cbook\\deprecation.py:107: MatplotlibDeprecationWarning: Adding an axes using the same arguments as a previous axes currently reuses the earlier instance.  In a future version, a new instance will always be created and returned.  Meanwhile, this warning can be suppressed, and the future behavior ensured, by passing a unique label to each axes instance.\n",
      "  warnings.warn(message, mplDeprecation, stacklevel=1)\n"
     ]
    },
    {
     "data": {
      "text/plain": [
       "Text(0,0.5,'frequency')"
      ]
     },
     "execution_count": 34,
     "metadata": {},
     "output_type": "execute_result"
    },
    {
     "data": {
      "image/png": "[encoded data removed]",
      "text/plain": [
       "<Figure size 432x288 with 2 Axes>"
      ]
     },
     "metadata": {},
     "output_type": "display_data"
    }
   ],
   "source": [
    "display(HTML(\"\"\"\n",
    "<h5>Let’s use pandas to visualise this correlation further</h5>\n",
    "\"\"\"\n",
    "))\n",
    "\n",
    "#Explore the data\n",
    "plt.subplots_adjust(left=0.2, bottom=None, right=None, top=None, wspace=None, hspace=1)\n",
    "plt.subplot(211)\n",
    "#===== AGE\n",
    "plt.subplot(2, 1, 1)\n",
    "df_boston['age'].plot.hist(title='Proportion of owner-occupied units built prior to 1940',\n",
    "                            colormap='jet')\n",
    "plt.xlabel('age')\n",
    "plt.ylabel('frequency')\n",
    "#===== \n",
    "plt.subplot(2, 1, 2)\n",
    "df_boston['crim'].plot.hist(title=\"per capita crime rate by town\",\n",
    "                           colormap=\"jet\"\n",
    "                           )\n",
    "plt.xlabel(\"crime\")\n",
    "plt.ylabel(\"frequency\")"
   ]
  },
  {
   "cell_type": "code",
   "execution_count": null,
   "metadata": {
    "collapsed": true
   },
   "outputs": [],
   "source": [
    "\n",
    "from pandas.plotting import scatter_matrix\n",
    "\n",
    "columns_visual=['rm','lstat','ptratio']\n",
    "\n",
    "for col_name in columns_visual:\n",
    "    plt.figure()\n",
    "    df_boston.plot.scatter(x=col_name, y='medv', title=\"Medv and {col_name}\".format(col_name=col_name))\n",
    "\n",
    "\n",
    "\n",
    "scatter_matrix(df_boston[columns_visual],figsize=(15,12),alpha=0.3)\n",
    "plt.show()"
   ]
  },
  {
   "cell_type": "markdown",
   "metadata": {},
   "source": [
    "# Creation a prediciton model\n",
    "\n",
    "In order to mesaure the quality of the developed model I will you R². The Range of this coefficient  is between 0 to 1. \n",
    "\n",
    "- 0: A model with a R² is as good as a model which always predict the mean of a traget variable.\n",
    "- 1: The developed model can perfely predict the target varaible\n",
    "- 0-1: Can be see as an indicator, what a percentag the target variable can be explaind by the feature which this model uses. \n",
    "  "
   ]
  },
  {
   "cell_type": "code",
   "execution_count": null,
   "metadata": {
    "scrolled": true
   },
   "outputs": [],
   "source": [
    "# Import 'r2_score'\n",
    "\n",
    "from sklearn.metrics import r2_score\n",
    "\n",
    "# Split date into training and test data\n",
    "from sklearn.model_selection import train_test_split\n",
    "\n",
    "X_train, X_test, y_train, y_test = train_test_split(df_boston[columns_visual], df_boston['medv'], test_size=0.2, random_state = 42)\n"
   ]
  },
  {
   "cell_type": "code",
   "execution_count": null,
   "metadata": {
    "collapsed": true
   },
   "outputs": [],
   "source": [
    "import pydotplus"
   ]
  },
  {
   "cell_type": "code",
   "execution_count": null,
   "metadata": {},
   "outputs": [],
   "source": [
    "# Import 'make_scorer', 'DecisionTreeRegressor', and 'GridSearchCV'\n",
    "from sklearn.tree import DecisionTreeRegressor\n",
    "from sklearn.metrics import make_scorer\n",
    "from sklearn.model_selection import GridSearchCV, ShuffleSplit\n",
    "\n",
    "def fit_model(X, y):\n",
    "    \"\"\" Performs grid search over the 'max_depth' parameter for a \n",
    "        decision tree regressor trained on the input data [X, y]. \n",
    "    Source:https://towardsdatascience.com/machine-learning-project-predicting-boston-house-prices-with-regression-b4e47493633d     \n",
    "    \"\"\"\n",
    "    \n",
    "    # Create cross-validation sets from the training data\n",
    "    cv_sets = ShuffleSplit(n_splits = 10, test_size = 0.20, random_state = 0)\n",
    "\n",
    "    # Create a decision tree regressor object\n",
    "    regressor = DecisionTreeRegressor()\n",
    "\n",
    "    # Create a dictionary for the parameter 'max_depth' with a range from 1 to 10\n",
    "    params = {'max_depth':[1,2,3,4,5,6,7,8,9,10]}\n",
    "\n",
    "    # Transform 'performance_metric' into a scoring function using 'make_scorer' \n",
    "    scoring_fnc = make_scorer(r2_score)\n",
    "\n",
    "    # Create the grid search cv object --> GridSearchCV()\n",
    "    grid = GridSearchCV(estimator=regressor, param_grid=params, scoring=scoring_fnc, cv=cv_sets)\n",
    "\n",
    "    # Fit the grid search object to the data to compute the optimal model\n",
    "    grid = grid.fit(X, y)\n",
    "\n",
    "    # Return the optimal model after fitting the data\n",
    "    return grid.best_estimator_,grid\n",
    "\n",
    "# Fit the training data to the model using grid search\n",
    "reg,grid = fit_model(X_train, y_train)\n",
    "\n",
    "# Produce the value for 'max_depth'\n",
    "print(\"Parameter 'max_depth' is {} for the optimal model.\".format(reg.get_params()['max_depth']))"
   ]
  },
  {
   "cell_type": "code",
   "execution_count": null,
   "metadata": {
    "scrolled": false
   },
   "outputs": [],
   "source": [
    "grid.grid_scores_"
   ]
  },
  {
   "cell_type": "code",
   "execution_count": null,
   "metadata": {},
   "outputs": [],
   "source": [
    "# Create test data to explore the created model \n",
    "\n",
    "#             rm ,lstat,ptratio   \n",
    "imaginary_data = [[2, 15, 20], \n",
    "               [3, 25, 26],\n",
    "               [6, 5, 9]]  \n",
    "\n",
    "# Show predictions\n",
    "for i, price in enumerate(reg.predict(imaginary_data)):\n",
    "    print(\"Predicted selling price for test data {}'s : ${:,.2f}\".format(i+1, price))"
   ]
  },
  {
   "cell_type": "code",
   "execution_count": null,
   "metadata": {
    "scrolled": true
   },
   "outputs": [],
   "source": [
    "from sklearn.externals.six import StringIO  \n",
    "from IPython.display import Image  \n",
    "from sklearn.tree import export_graphviz\n",
    "import pydotplus\n",
    "\n",
    "# https://medium.com/@rnbrown/creating-and-visualizing-decision-trees-with-python-f8e8fa394176\n",
    "dot_data = StringIO()\n",
    "\n",
    "export_graphviz(reg, out_file=dot_data,  \n",
    "                filled=True, rounded=True,\n",
    "                special_characters=True)\n",
    "\n",
    "graph = pydotplus.graph_from_dot_data(dot_data.getvalue())  \n",
    "Image(graph.create_png())"
   ]
  },
  {
   "cell_type": "markdown",
   "metadata": {},
   "source": [
    "# Model’s Sensitivity\n",
    "\n",
    "After I found an optimal model I will check the robustness of the developed model. \n",
    "It can happen that the optional model is overfiting order underfitting. \n",
    "\n",
    "One way to check if the model is robistness of a concept is to created differnt models and see how far the spread is for the same data set ( I will check agains the imaginary_data).\n",
    "\n",
    "\n"
   ]
  },
  {
   "cell_type": "code",
   "execution_count": null,
   "metadata": {
    "collapsed": true
   },
   "outputs": [],
   "source": [
    "#1.Step Change the test_split to \n",
    "i=0\n",
    "dict_model={}\n",
    "df_sens= pd.DataFrame(data={\"name\":[],\"predict_value\":[]})\n",
    "for size_test_split in [0.1,0.15,0.22,0.27]:\n",
    "    \n",
    "    X_train, X_test, y_train, y_test = train_test_split(df_boston[columns_visual], df_boston['medv'], test_size=0.2, random_state = 42)\n",
    "    reg,grid = fit_model(X_train, y_train)\n",
    "    dict_model[i]={\"reg\":reg,\"grid\":grid}\n",
    "    df_sens = df_sens.append({\"name\":i,\"predict_value\":reg.predict([[2, 15, 20]])[0]},ignore_index=True)\n",
    "    "
   ]
  },
  {
   "cell_type": "code",
   "execution_count": null,
   "metadata": {},
   "outputs": [],
   "source": [
    " df_sens.append({\"name\":i,\"predict_value\":reg.predict([[2, 15, 20]])[0]},ignore_index=True)"
   ]
  },
  {
   "cell_type": "code",
   "execution_count": null,
   "metadata": {
    "scrolled": true
   },
   "outputs": [],
   "source": [
    "df_sens"
   ]
  },
  {
   "cell_type": "code",
   "execution_count": null,
   "metadata": {},
   "outputs": [],
   "source": [
    "df_boston.plot.scatter(x=df_sens[\"predict_value\"], y=df_sens[\"predict_value\"], title=\"Medv and rm\")\n",
    "\n",
    "\n"
   ]
  }
 ],
 "metadata": {
  "kernelspec": {
   "display_name": "Python (python35)",
   "language": "python",
   "name": "myenv"
  },
  "language_info": {
   "codemirror_mode": {
    "name": "ipython",
    "version": 3
   },
   "file_extension": ".py",
   "mimetype": "text/x-python",
   "name": "python",
   "nbconvert_exporter": "python",
   "pygments_lexer": "ipython3",
   "version": "3.5.5"
  }
 },
 "nbformat": 4,
 "nbformat_minor": 2
}
